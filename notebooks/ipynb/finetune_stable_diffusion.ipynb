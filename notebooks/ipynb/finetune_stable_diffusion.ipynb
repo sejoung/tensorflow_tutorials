{
 "cells": [
  {
   "cell_type": "markdown",
   "metadata": {
    "colab_type": "text"
   },
   "source": [
    "# Fine-tuning Stable Diffusion\n",
    "\n",
    "**Author:** [Sayak Paul](https://twitter.com/RisingSayak), [Chansung Park](https://twitter.com/algo_diver)<br>\n",
    "**Date created:** 2022/12/28<br>\n",
    "**Last modified:** 2023/01/13<br>\n",
    "**Description:** Fine-tuning Stable Diffusion using a custom image-caption dataset."
   ]
  },
  {
   "cell_type": "markdown",
   "metadata": {
    "colab_type": "text"
   },
   "source": [
    "## Introduction\n",
    "\n",
    "This tutorial shows how to fine-tune a\n",
    "[Stable Diffusion model](https://keras.io/guides/keras_cv/generate_images_with_stable_diffusion/)\n",
    "on a custom dataset of `{image, caption}` pairs. We build on top of the fine-tuning\n",
    "script provided by Hugging Face\n",
    "[here](https://github.com/huggingface/diffusers/blob/main/examples/text_to_image/train_text_to_image.py).\n",
    "\n",
    "We assume that you have a high-level understanding of the Stable Diffusion model.\n",
    "The following resources can be helpful if you're looking for more information in that regard:\n",
    "\n",
    "* [High-performance image generation using Stable Diffusion in KerasCV](https://keras.io/guides/keras_cv/generate_images_with_stable_diffusion/)\n",
    "* [Stable Diffusion with Diffusers](https://huggingface.co/blog/stable_diffusion)\n",
    "\n",
    "It's highly recommended that you use a GPU with at least 30GB of memory to execute\n",
    "the code.\n",
    "\n",
    "By the end of the guide, you'll be able to generate images of interesting Pokémon:\n",
    "\n",
    "![custom-pokemons](https://i.imgur.com/X4m614M.png)\n",
    "\n",
    "The tutorial relies on KerasCV 0.4.0. Additionally, we need\n",
    "at least TensorFlow 2.11 in order to use AdamW with mixed precision."
   ]
  },
  {
   "cell_type": "code",
   "execution_count": null,
   "metadata": {
    "colab_type": "code"
   },
   "outputs": [],
   "source": [
    "!pip install keras-cv==0.6.0 -q\n",
    "!pip install -U tensorflow -q\n",
    "!pip install keras-core -q"
   ]
  },
  {
   "cell_type": "markdown",
   "metadata": {
    "colab_type": "text"
   },
   "source": [
    "## What are we fine-tuning?\n",
    "\n",
    "A Stable Diffusion model can be decomposed into several key models:\n",
    "\n",
    "* A text encoder that projects the input prompt to a latent space. (The caption\n",
    "associated with an image is referred to as the \"prompt\".)\n",
    "* A variational autoencoder (VAE) that projects an input image to a latent space acting\n",
    "as an image vector space.\n",
    "* A diffusion model that refines a latent vector and produces another latent vector, conditioned\n",
    "on the encoded text prompt\n",
    "* A decoder that generates images given a latent vector from the diffusion model.\n",
    "\n",
    "It's worth noting that during the process of generating an image from a text prompt, the\n",
    "image encoder is not typically employed.\n",
    "\n",
    "However, during the process of fine-tuning, the workflow goes like the following:\n",
    "\n",
    "1. An input text prompt is projected to a latent space by the text encoder.\n",
    "2. An input image is projected to a latent space by the image encoder portion of the VAE.\n",
    "3. A small amount of noise is added to the image latent vector for a given timestep.\n",
    "4. The diffusion model uses latent vectors from these two spaces along with a timestep embedding\n",
    "to predict the noise that was added to the image latent.\n",
    "5. A reconstruction loss is calculated between the predicted noise and the original noise\n",
    "added in step 3.\n",
    "6. Finally, the diffusion model parameters are optimized w.r.t this loss using\n",
    "gradient descent.\n",
    "\n",
    "Note that only the diffusion model parameters are updated during fine-tuning, while the\n",
    "(pre-trained) text and the image encoders are kept frozen.\n",
    "\n",
    "Don't worry if this sounds complicated. The code is much simpler than this!"
   ]
  },
  {
   "cell_type": "markdown",
   "metadata": {
    "colab_type": "text"
   },
   "source": [
    "## Imports"
   ]
  },
  {
   "cell_type": "code",
   "execution_count": null,
   "metadata": {
    "colab_type": "code"
   },
   "outputs": [],
   "source": [
    "from textwrap import wrap\n",
    "import os\n",
    "\n",
    "import keras_cv\n",
    "import matplotlib.pyplot as plt\n",
    "import numpy as np\n",
    "import pandas as pd\n",
    "import tensorflow as tf\n",
    "import tensorflow.experimental.numpy as tnp\n",
    "from keras_cv.models.stable_diffusion.clip_tokenizer import SimpleTokenizer\n",
    "from keras_cv.models.stable_diffusion.diffusion_model import DiffusionModel\n",
    "from keras_cv.models.stable_diffusion.image_encoder import ImageEncoder\n",
    "from keras_cv.models.stable_diffusion.noise_scheduler import NoiseScheduler\n",
    "from keras_cv.models.stable_diffusion.text_encoder import TextEncoder\n",
    "from tensorflow import keras"
   ]
  },
  {
   "cell_type": "markdown",
   "metadata": {
    "colab_type": "text"
   },
   "source": [
    "## Data loading\n",
    "\n",
    "We use the dataset\n",
    "[Pokémon BLIP captions](https://huggingface.co/datasets/lambdalabs/pokemon-blip-captions).\n",
    "However, we'll use a slightly different version which was derived from the original\n",
    "dataset to fit better with `tf.data`. Refer to\n",
    "[the documentation](https://huggingface.co/datasets/sayakpaul/pokemon-blip-original-version)\n",
    "for more details."
   ]
  },
  {
   "cell_type": "code",
   "execution_count": null,
   "metadata": {
    "colab_type": "code"
   },
   "outputs": [],
   "source": [
    "data_path = tf.keras.utils.get_file(\n",
    "    origin=\"https://huggingface.co/datasets/sayakpaul/pokemon-blip-original-version/resolve/main/pokemon_dataset.tar.gz\",\n",
    "    untar=True,\n",
    ")\n",
    "\n",
    "data_frame = pd.read_csv(os.path.join(data_path, \"data.csv\"))\n",
    "\n",
    "data_frame[\"image_path\"] = data_frame[\"image_path\"].apply(\n",
    "    lambda x: os.path.join(data_path, x)\n",
    ")\n",
    "data_frame.head()"
   ]
  },
  {
   "cell_type": "markdown",
   "metadata": {
    "colab_type": "text"
   },
   "source": [
    "Since we have only 833 `{image, caption}` pairs, we can precompute the text embeddings from\n",
    "the captions. Moreover, the text encoder will be kept frozen during the course of\n",
    "fine-tuning, so we can save some compute by doing this.\n",
    "\n",
    "Before we use the text encoder, we need to tokenize the captions."
   ]
  },
  {
   "cell_type": "code",
   "execution_count": null,
   "metadata": {
    "colab_type": "code"
   },
   "outputs": [],
   "source": [
    "# The padding token and maximum prompt length are specific to the text encoder.\n",
    "# If you're using a different text encoder be sure to change them accordingly.\n",
    "PADDING_TOKEN = 49407\n",
    "MAX_PROMPT_LENGTH = 77\n",
    "\n",
    "# Load the tokenizer.\n",
    "tokenizer = SimpleTokenizer()\n",
    "\n",
    "#  Method to tokenize and pad the tokens.\n",
    "def process_text(caption):\n",
    "    tokens = tokenizer.encode(caption)\n",
    "    tokens = tokens + [PADDING_TOKEN] * (MAX_PROMPT_LENGTH - len(tokens))\n",
    "    return np.array(tokens)\n",
    "\n",
    "\n",
    "# Collate the tokenized captions into an array.\n",
    "tokenized_texts = np.empty((len(data_frame), MAX_PROMPT_LENGTH))\n",
    "\n",
    "all_captions = list(data_frame[\"caption\"].values)\n",
    "for i, caption in enumerate(all_captions):\n",
    "    tokenized_texts[i] = process_text(caption)"
   ]
  },
  {
   "cell_type": "markdown",
   "metadata": {
    "colab_type": "text"
   },
   "source": [
    "## Prepare a `tf.data.Dataset`\n",
    "\n",
    "In this section, we'll prepare a `tf.data.Dataset` object from the input image file paths\n",
    "and their corresponding caption tokens. The section will include the following:\n",
    "\n",
    "* Pre-computation of the text embeddings from the tokenized captions.\n",
    "* Loading and augmentation of the input images.\n",
    "* Shuffling and batching of the dataset."
   ]
  },
  {
   "cell_type": "code",
   "execution_count": null,
   "metadata": {
    "colab_type": "code"
   },
   "outputs": [],
   "source": [
    "RESOLUTION = 256\n",
    "AUTO = tf.data.AUTOTUNE\n",
    "POS_IDS = tf.convert_to_tensor([list(range(MAX_PROMPT_LENGTH))], dtype=tf.int32)\n",
    "\n",
    "augmenter = keras.Sequential(\n",
    "    layers=[\n",
    "        keras_cv.layers.CenterCrop(RESOLUTION, RESOLUTION),\n",
    "        keras_cv.layers.RandomFlip(),\n",
    "        tf.keras.layers.Rescaling(scale=1.0 / 127.5, offset=-1),\n",
    "    ]\n",
    ")\n",
    "text_encoder = TextEncoder(MAX_PROMPT_LENGTH)\n",
    "\n",
    "\n",
    "def process_image(image_path, tokenized_text):\n",
    "    image = tf.io.read_file(image_path)\n",
    "    image = tf.io.decode_png(image, 3)\n",
    "    image = tf.image.resize(image, (RESOLUTION, RESOLUTION))\n",
    "    return image, tokenized_text\n",
    "\n",
    "\n",
    "def apply_augmentation(image_batch, token_batch):\n",
    "    return augmenter(image_batch), token_batch\n",
    "\n",
    "\n",
    "def run_text_encoder(image_batch, token_batch):\n",
    "    return (\n",
    "        image_batch,\n",
    "        token_batch,\n",
    "        text_encoder([token_batch, POS_IDS], training=False),\n",
    "    )\n",
    "\n",
    "\n",
    "def prepare_dict(image_batch, token_batch, encoded_text_batch):\n",
    "    return {\n",
    "        \"images\": image_batch,\n",
    "        \"tokens\": token_batch,\n",
    "        \"encoded_text\": encoded_text_batch,\n",
    "    }\n",
    "\n",
    "\n",
    "def prepare_dataset(image_paths, tokenized_texts, batch_size=1):\n",
    "    dataset = tf.data.Dataset.from_tensor_slices((image_paths, tokenized_texts))\n",
    "    dataset = dataset.shuffle(batch_size * 10)\n",
    "    dataset = dataset.map(process_image, num_parallel_calls=AUTO).batch(batch_size)\n",
    "    dataset = dataset.map(apply_augmentation, num_parallel_calls=AUTO)\n",
    "    dataset = dataset.map(run_text_encoder, num_parallel_calls=AUTO)\n",
    "    dataset = dataset.map(prepare_dict, num_parallel_calls=AUTO)\n",
    "    return dataset.prefetch(AUTO)\n"
   ]
  },
  {
   "cell_type": "markdown",
   "metadata": {
    "colab_type": "text"
   },
   "source": [
    "The baseline Stable Diffusion model was trained using images with 512x512 resolution. It's\n",
    "unlikely for a model that's trained using higher-resolution images to transfer well to\n",
    "lower-resolution images. However, the current model will lead to OOM if we keep the\n",
    "resolution to 512x512 (without enabling mixed-precision). Therefore, in the interest of\n",
    "interactive demonstrations, we kept the input resolution to 256x256."
   ]
  },
  {
   "cell_type": "code",
   "execution_count": null,
   "metadata": {
    "colab_type": "code"
   },
   "outputs": [],
   "source": [
    "# Prepare the dataset.\n",
    "training_dataset = prepare_dataset(\n",
    "    np.array(data_frame[\"image_path\"]), tokenized_texts, batch_size=4\n",
    ")\n",
    "\n",
    "# Take a sample batch and investigate.\n",
    "sample_batch = next(iter(training_dataset))\n",
    "\n",
    "for k in sample_batch:\n",
    "    print(k, sample_batch[k].shape)"
   ]
  },
  {
   "cell_type": "markdown",
   "metadata": {
    "colab_type": "text"
   },
   "source": [
    "We can also take a look at the training images and their corresponding captions."
   ]
  },
  {
   "cell_type": "code",
   "execution_count": null,
   "metadata": {
    "colab_type": "code"
   },
   "outputs": [],
   "source": [
    "plt.figure(figsize=(20, 10))\n",
    "\n",
    "for i in range(3):\n",
    "    ax = plt.subplot(1, 4, i + 1)\n",
    "    plt.imshow((sample_batch[\"images\"][i] + 1) / 2)\n",
    "\n",
    "    text = tokenizer.decode(sample_batch[\"tokens\"][i].numpy().squeeze())\n",
    "    text = text.replace(\"<|startoftext|>\", \"\")\n",
    "    text = text.replace(\"<|endoftext|>\", \"\")\n",
    "    text = \"\\n\".join(wrap(text, 12))\n",
    "    plt.title(text, fontsize=15)\n",
    "\n",
    "    plt.axis(\"off\")"
   ]
  },
  {
   "cell_type": "markdown",
   "metadata": {
    "colab_type": "text"
   },
   "source": [
    "## A trainer class for the fine-tuning loop"
   ]
  },
  {
   "cell_type": "code",
   "execution_count": null,
   "metadata": {
    "colab_type": "code"
   },
   "outputs": [],
   "source": [
    "\n",
    "class Trainer(tf.keras.Model):\n",
    "    # Reference:\n",
    "    # https://github.com/huggingface/diffusers/blob/main/examples/text_to_image/train_text_to_image.py\n",
    "\n",
    "    def __init__(\n",
    "        self,\n",
    "        diffusion_model,\n",
    "        vae,\n",
    "        noise_scheduler,\n",
    "        use_mixed_precision=False,\n",
    "        max_grad_norm=1.0,\n",
    "        **kwargs\n",
    "    ):\n",
    "        super().__init__(**kwargs)\n",
    "\n",
    "        self.diffusion_model = diffusion_model\n",
    "        self.vae = vae\n",
    "        self.noise_scheduler = noise_scheduler\n",
    "        self.max_grad_norm = max_grad_norm\n",
    "\n",
    "        self.use_mixed_precision = use_mixed_precision\n",
    "        self.vae.trainable = False\n",
    "\n",
    "    def train_step(self, inputs):\n",
    "        images = inputs[\"images\"]\n",
    "        encoded_text = inputs[\"encoded_text\"]\n",
    "        batch_size = tf.shape(images)[0]\n",
    "\n",
    "        with tf.GradientTape() as tape:\n",
    "            # Project image into the latent space and sample from it.\n",
    "            latents = self.sample_from_encoder_outputs(self.vae(images, training=False))\n",
    "            # Know more about the magic number here:\n",
    "            # https://keras.io/examples/generative/fine_tune_via_textual_inversion/\n",
    "            latents = latents * 0.18215\n",
    "\n",
    "            # Sample noise that we'll add to the latents.\n",
    "            noise = tf.random.normal(tf.shape(latents))\n",
    "\n",
    "            # Sample a random timestep for each image.\n",
    "            timesteps = tnp.random.randint(\n",
    "                0, self.noise_scheduler.train_timesteps, (batch_size,)\n",
    "            )\n",
    "\n",
    "            # Add noise to the latents according to the noise magnitude at each timestep\n",
    "            # (this is the forward diffusion process).\n",
    "            noisy_latents = self.noise_scheduler.add_noise(\n",
    "                tf.cast(latents, noise.dtype), noise, timesteps\n",
    "            )\n",
    "\n",
    "            # Get the target for loss depending on the prediction type\n",
    "            # just the sampled noise for now.\n",
    "            target = noise  # noise_schedule.predict_epsilon == True\n",
    "\n",
    "            # Predict the noise residual and compute loss.\n",
    "            timestep_embedding = tf.map_fn(\n",
    "                lambda t: self.get_timestep_embedding(t), timesteps, dtype=tf.float32\n",
    "            )\n",
    "            timestep_embedding = tf.squeeze(timestep_embedding, 1)\n",
    "            model_pred = self.diffusion_model(\n",
    "                [noisy_latents, timestep_embedding, encoded_text], training=True\n",
    "            )\n",
    "            loss = self.compiled_loss(target, model_pred)\n",
    "            if self.use_mixed_precision:\n",
    "                loss = self.optimizer.get_scaled_loss(loss)\n",
    "\n",
    "        # Update parameters of the diffusion model.\n",
    "        trainable_vars = self.diffusion_model.trainable_variables\n",
    "        gradients = tape.gradient(loss, trainable_vars)\n",
    "        if self.use_mixed_precision:\n",
    "            gradients = self.optimizer.get_unscaled_gradients(gradients)\n",
    "        gradients = [tf.clip_by_norm(g, self.max_grad_norm) for g in gradients]\n",
    "        self.optimizer.apply_gradients(zip(gradients, trainable_vars))\n",
    "\n",
    "        return {m.name: m.result() for m in self.metrics}\n",
    "\n",
    "    def get_timestep_embedding(self, timestep, dim=320, max_period=10000):\n",
    "        half = dim // 2\n",
    "        log_max_period = tf.math.log(tf.cast(max_period, tf.float32))\n",
    "        freqs = tf.math.exp(\n",
    "            -log_max_period * tf.range(0, half, dtype=tf.float32) / half\n",
    "        )\n",
    "        args = tf.convert_to_tensor([timestep], dtype=tf.float32) * freqs\n",
    "        embedding = tf.concat([tf.math.cos(args), tf.math.sin(args)], 0)\n",
    "        embedding = tf.reshape(embedding, [1, -1])\n",
    "        return embedding\n",
    "\n",
    "    def sample_from_encoder_outputs(self, outputs):\n",
    "        mean, logvar = tf.split(outputs, 2, axis=-1)\n",
    "        logvar = tf.clip_by_value(logvar, -30.0, 20.0)\n",
    "        std = tf.exp(0.5 * logvar)\n",
    "        sample = tf.random.normal(tf.shape(mean), dtype=mean.dtype)\n",
    "        return mean + std * sample\n",
    "\n",
    "    def save_weights(self, filepath, overwrite=True, save_format=None, options=None):\n",
    "        # Overriding this method will allow us to use the `ModelCheckpoint`\n",
    "        # callback directly with this trainer class. In this case, it will\n",
    "        # only checkpoint the `diffusion_model` since that's what we're training\n",
    "        # during fine-tuning.\n",
    "        self.diffusion_model.save_weights(\n",
    "            filepath=filepath,\n",
    "            overwrite=overwrite,\n",
    "            save_format=save_format,\n",
    "            options=options,\n",
    "        )\n"
   ]
  },
  {
   "cell_type": "markdown",
   "metadata": {
    "colab_type": "text"
   },
   "source": [
    "One important implementation detail to note here: Instead of directly taking\n",
    "the latent vector produced by the image encoder (which is a VAE), we sample from the\n",
    "mean and log-variance predicted by it. This way, we can achieve better sample\n",
    "quality and diversity.\n",
    "\n",
    "It's common to add support for mixed-precision training along with exponential\n",
    "moving averaging of model weights for fine-tuning these models. However, in the interest\n",
    "of brevity, we discard those elements. More on this later in the tutorial."
   ]
  },
  {
   "cell_type": "markdown",
   "metadata": {
    "colab_type": "text"
   },
   "source": [
    "## Initialize the trainer and compile it"
   ]
  },
  {
   "cell_type": "code",
   "execution_count": null,
   "metadata": {
    "colab_type": "code"
   },
   "outputs": [],
   "source": [
    "# Enable mixed-precision training if the underlying GPU has tensor cores.\n",
    "USE_MP = True\n",
    "if USE_MP:\n",
    "    keras.mixed_precision.set_global_policy(\"mixed_float16\")\n",
    "\n",
    "image_encoder = ImageEncoder()\n",
    "diffusion_ft_trainer = Trainer(\n",
    "    diffusion_model=DiffusionModel(RESOLUTION, RESOLUTION, MAX_PROMPT_LENGTH),\n",
    "    # Remove the top layer from the encoder, which cuts off the variance and only\n",
    "    # returns the mean.\n",
    "    vae=tf.keras.Model(\n",
    "        image_encoder.input,\n",
    "        image_encoder.layers[-2].output,\n",
    "    ),\n",
    "    noise_scheduler=NoiseScheduler(),\n",
    "    use_mixed_precision=USE_MP,\n",
    ")\n",
    "\n",
    "# These hyperparameters come from this tutorial by Hugging Face:\n",
    "# https://huggingface.co/docs/diffusers/training/text2image\n",
    "lr = 1e-5\n",
    "beta_1, beta_2 = 0.9, 0.999\n",
    "weight_decay = (1e-2,)\n",
    "epsilon = 1e-08\n",
    "\n",
    "optimizer = tf.keras.optimizers.experimental.AdamW(\n",
    "    learning_rate=lr,\n",
    "    weight_decay=weight_decay,\n",
    "    beta_1=beta_1,\n",
    "    beta_2=beta_2,\n",
    "    epsilon=epsilon,\n",
    ")\n",
    "diffusion_ft_trainer.compile(optimizer=optimizer, loss=\"mse\")"
   ]
  },
  {
   "cell_type": "markdown",
   "metadata": {
    "colab_type": "text"
   },
   "source": [
    "## Fine-tuning\n",
    "\n",
    "To keep the runtime of this tutorial short, we just fine-tune for an epoch."
   ]
  },
  {
   "cell_type": "code",
   "execution_count": null,
   "metadata": {
    "colab_type": "code"
   },
   "outputs": [],
   "source": [
    "epochs = 1\n",
    "ckpt_path = \"finetuned_stable_diffusion.h5\"\n",
    "ckpt_callback = tf.keras.callbacks.ModelCheckpoint(\n",
    "    ckpt_path,\n",
    "    save_weights_only=True,\n",
    "    monitor=\"loss\",\n",
    "    mode=\"min\",\n",
    ")\n",
    "diffusion_ft_trainer.fit(training_dataset, epochs=epochs, callbacks=[ckpt_callback])"
   ]
  },
  {
   "cell_type": "markdown",
   "metadata": {
    "colab_type": "text"
   },
   "source": [
    "## Inference\n",
    "\n",
    "We fine-tuned the model for 60 epochs on an image resolution of 512x512. To allow\n",
    "training with this resolution, we incorporated mixed-precision support. You can\n",
    "check out\n",
    "[this repository](https://github.com/sayakpaul/stabe-diffusion-keras-ft)\n",
    "for more details. It additionally provides support for exponential moving averaging of\n",
    "the fine-tuned model parameters and model checkpointing.\n",
    "\n",
    "\n",
    "For this section, we'll use the checkpoint derived after 60 epochs of fine-tuning."
   ]
  },
  {
   "cell_type": "code",
   "execution_count": null,
   "metadata": {
    "colab_type": "code"
   },
   "outputs": [],
   "source": [
    "weights_path = tf.keras.utils.get_file(\n",
    "    origin=\"https://huggingface.co/sayakpaul/kerascv_sd_pokemon_finetuned/resolve/main/ckpt_epochs_72_res_512_mp_True.h5\"\n",
    ")\n",
    "\n",
    "img_height = img_width = 512\n",
    "pokemon_model = keras_cv.models.StableDiffusion(\n",
    "    img_width=img_width, img_height=img_height\n",
    ")\n",
    "# We just reload the weights of the fine-tuned diffusion model.\n",
    "pokemon_model.diffusion_model.load_weights(weights_path)"
   ]
  },
  {
   "cell_type": "markdown",
   "metadata": {
    "colab_type": "text"
   },
   "source": [
    "Now, we can take this model for a test-drive."
   ]
  },
  {
   "cell_type": "code",
   "execution_count": null,
   "metadata": {
    "colab_type": "code"
   },
   "outputs": [],
   "source": [
    "prompts = [\"Yoda\", \"Hello Kitty\", \"A pokemon with red eyes\"]\n",
    "images_to_generate = 3\n",
    "outputs = {}\n",
    "\n",
    "for prompt in prompts:\n",
    "    generated_images = pokemon_model.text_to_image(\n",
    "        prompt, batch_size=images_to_generate, unconditional_guidance_scale=40\n",
    "    )\n",
    "    outputs.update({prompt: generated_images})"
   ]
  },
  {
   "cell_type": "markdown",
   "metadata": {
    "colab_type": "text"
   },
   "source": [
    "With 60 epochs of fine-tuning (a good number is about 70), the generated images were not\n",
    "up to the mark. So, we experimented with the number of steps Stable Diffusion takes\n",
    "during the inference time and the `unconditional_guidance_scale` parameter.\n",
    "\n",
    "We found the best results with this checkpoint with `unconditional_guidance_scale` set to\n",
    "40."
   ]
  },
  {
   "cell_type": "code",
   "execution_count": null,
   "metadata": {
    "colab_type": "code"
   },
   "outputs": [],
   "source": [
    "\n",
    "def plot_images(images, title):\n",
    "    plt.figure(figsize=(20, 20))\n",
    "    for i in range(len(images)):\n",
    "        ax = plt.subplot(1, len(images), i + 1)\n",
    "        plt.imshow(images[i])\n",
    "        plt.title(title, fontsize=12)\n",
    "        plt.axis(\"off\")\n",
    "\n",
    "\n",
    "for prompt in outputs:\n",
    "    plot_images(outputs[prompt], prompt)"
   ]
  },
  {
   "cell_type": "markdown",
   "metadata": {
    "colab_type": "text"
   },
   "source": [
    "We can notice that the model has started adapting to the style of our dataset. You can\n",
    "check the\n",
    "[accompanying repository](https://github.com/sayakpaul/stable-diffusion-keras-ft#results)\n",
    "for more comparisons and commentary. If you're feeling adventurous to try out a demo,\n",
    "you can check out\n",
    "[this resource](https://huggingface.co/spaces/sayakpaul/pokemon-sd-kerascv)."
   ]
  },
  {
   "cell_type": "markdown",
   "metadata": {
    "colab_type": "text"
   },
   "source": [
    "## Conclusion and acknowledgements\n",
    "\n",
    "We demonstrated how to fine-tune the Stable Diffusion model on a custom dataset. While\n",
    "the results are far from aesthetically pleasing, we believe with more epochs of\n",
    "fine-tuning, they will likely improve. To enable that, having support for gradient\n",
    "accumulation and distributed training is crucial. This can be thought of as the next step\n",
    "in this tutorial.\n",
    "\n",
    "There is another interesting way in which Stable Diffusion models can be fine-tuned,\n",
    "called textual inversion. You can refer to\n",
    "[this tutorial](https://keras.io/examples/generative/fine_tune_via_textual_inversion/)\n",
    "to know more about it.\n",
    "\n",
    "We'd like to acknowledge the GCP Credit support from ML Developer Programs' team at\n",
    "Google. We'd like to thank the Hugging Face team for providing the\n",
    "[fine-tuning script](https://github.com/huggingface/diffusers/blob/main/examples/text_to_image/train_text_to_image.py)\n",
    ". It's very readable and easy to understand."
   ]
  }
 ],
 "metadata": {
  "accelerator": "GPU",
  "colab": {
   "collapsed_sections": [],
   "name": "finetune_stable_diffusion",
   "private_outputs": false,
   "provenance": [],
   "toc_visible": true
  },
  "kernelspec": {
   "display_name": "Python 3",
   "language": "python",
   "name": "python3"
  },
  "language_info": {
   "codemirror_mode": {
    "name": "ipython",
    "version": 3
   },
   "file_extension": ".py",
   "mimetype": "text/x-python",
   "name": "python",
   "nbconvert_exporter": "python",
   "pygments_lexer": "ipython3",
   "version": "3.7.0"
  }
 },
 "nbformat": 4,
 "nbformat_minor": 0
}
