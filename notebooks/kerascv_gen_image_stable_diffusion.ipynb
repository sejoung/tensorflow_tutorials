{
 "cells": [
  {
   "cell_type": "markdown",
   "metadata": {
    "id": "HU_QbIPMtFyd"
   },
   "source": [
    "## Setup\n"
   ]
  },
  {
   "cell_type": "code",
   "execution_count": null,
   "metadata": {
    "id": "KPTS7ycVtDY2"
   },
   "outputs": [],
   "source": [
    "!pip install git+https: // github.com/keras-team/keras-cv -q"
   ]
  },
  {
   "cell_type": "code",
   "execution_count": null,
   "metadata": {
    "id": "xF_HmcU8tDY3"
   },
   "outputs": [],
   "source": [
    "import time\n",
    "import keras_cv\n",
    "from tensorflow import keras\n",
    "import matplotlib.pyplot as plt\n",
    "\n",
    "print(keras_cv.__version__)\n",
    "\n",
    "\n",
    "def plot_images(images, title):\n",
    "  plt.figure(figsize=(20, 20))\n",
    "  for i in range(len(images)):\n",
    "    ax = plt.subplot(1, len(images), i + 1)\n",
    "    plt.title(title)\n",
    "    plt.imshow(images[i])\n",
    "    plt.axis(\"off\")"
   ]
  },
  {
   "cell_type": "markdown",
   "metadata": {
    "id": "04HcpaKKtDY4"
   },
   "source": [
    "## Prepare the models"
   ]
  },
  {
   "cell_type": "code",
   "execution_count": null,
   "metadata": {
    "id": "LHJ0SXUYvmCj"
   },
   "outputs": [],
   "source": [
    "model = keras_cv.models.StableDiffusion(img_width=512, img_height=512)"
   ]
  },
  {
   "cell_type": "markdown",
   "metadata": {
    "id": "OHMJiNLCxGUM"
   },
   "source": [
    "## 이미지 생성"
   ]
  },
  {
   "cell_type": "code",
   "execution_count": null,
   "metadata": {
    "id": "4uBY0IL48mbU"
   },
   "outputs": [],
   "source": [
    "images = model.text_to_image(\"photograph of an astronaut riding a horse\", batch_size=3)\n",
    "plot_images(images, \"간단한 프롬프트\")"
   ]
  },
  {
   "cell_type": "code",
   "execution_count": null,
   "metadata": {
    "id": "wGzLW9xZBdL2"
   },
   "outputs": [],
   "source": [
    "images = model.text_to_image(\n",
    "  \"cute magical flying dog, fantasy art, \"\n",
    "  \"golden color, high quality, highly detailed, elegant, sharp focus, \"\n",
    "  \"concept art, character concepts, digital painting, mystery, adventure\",\n",
    "  batch_size=3,\n",
    ")\n",
    "plot_images(images, \"복잡한 프롬프트\")"
   ]
  },
  {
   "cell_type": "markdown",
   "metadata": {
    "id": "Dvb8SwoSxJFY"
   },
   "source": [
    "## 벤치마킹\n",
    "\n",
    "### 기본 모델"
   ]
  },
  {
   "cell_type": "code",
   "execution_count": null,
   "metadata": {
    "id": "t1V-I5GgtDY5"
   },
   "outputs": [],
   "source": [
    "benchmark_result = []\n",
    "start = time.time()\n",
    "images = model.text_to_image(\n",
    "  \"A cute otter in a rainbow whirlpool holding shells, watercolor\",\n",
    "  batch_size=3,\n",
    ")\n",
    "end = time.time()\n",
    "benchmark_result.append([\"Standard\", end - start])\n",
    "plot_images(images)\n",
    "\n",
    "print(f\"Standard model: {(end - start):.2f} seconds\")\n",
    "keras.backend.clear_session()  # Clear session to preserve memory.\n",
    "\n",
    "print(\"Compute dtype:\", model.diffusion_model.compute_dtype)\n",
    "print(\n",
    "  \"Variable dtype:\",\n",
    "  model.diffusion_model.variable_dtype,\n",
    ")"
   ]
  },
  {
   "cell_type": "markdown",
   "source": [
    "### 혼합정밀도(Mixed precision)"
   ],
   "metadata": {
    "collapsed": false
   }
  },
  {
   "cell_type": "code",
   "execution_count": null,
   "outputs": [],
   "source": [
    "keras.mixed_precision.set_global_policy(\"mixed_float16\")\n",
    "model = keras_cv.models.StableDiffusion()\n",
    "print(\"Compute dtype:\", model.diffusion_model.compute_dtype)\n",
    "print(\n",
    "  \"Variable dtype:\",\n",
    "  model.diffusion_model.variable_dtype,\n",
    ")"
   ],
   "metadata": {
    "collapsed": false
   }
  },
  {
   "cell_type": "code",
   "execution_count": null,
   "outputs": [],
   "source": [
    "# Warm up model to run graph tracing before benchmarking.\n",
    "model.text_to_image(\"warming up the model\", batch_size=3)\n",
    "\n",
    "start = time.time()\n",
    "images = model.text_to_image(\n",
    "  \"a cute magical flying dog, fantasy art, \"\n",
    "  \"golden color, high quality, highly detailed, elegant, sharp focus, \"\n",
    "  \"concept art, character concepts, digital painting, mystery, adventure\",\n",
    "  batch_size=3,\n",
    ")\n",
    "end = time.time()\n",
    "benchmark_result.append([\"Mixed Precision\", end - start])\n",
    "plot_images(images, \"Mixed Precision\")\n",
    "\n",
    "print(f\"Mixed precision model: {(end - start):.2f} seconds\")\n",
    "keras.backend.clear_session()\n"
   ],
   "metadata": {
    "collapsed": false
   }
  },
  {
   "cell_type": "markdown",
   "source": [
    "### XLA Compilation\n",
    "\n",
    "`jit_compile=True` 일때 XLA 컴파일 활성화"
   ],
   "metadata": {
    "collapsed": false
   }
  },
  {
   "cell_type": "code",
   "execution_count": null,
   "outputs": [],
   "source": [
    "# Set back to the default for benchmarking purposes.\n",
    "keras.mixed_precision.set_global_policy(\"float32\")\n",
    "\n",
    "model = keras_cv.models.StableDiffusion(jit_compile=True)\n",
    "# Before we benchmark the model, we run inference once to make sure the TensorFlow\n",
    "# graph has already been traced.\n",
    "images = model.text_to_image(\"An avocado armchair\", batch_size=3)\n",
    "plot_images(images, \"XLA Compilation\")"
   ],
   "metadata": {
    "collapsed": false
   }
  },
  {
   "cell_type": "code",
   "execution_count": null,
   "outputs": [],
   "source": [
    "start = time.time()\n",
    "images = model.text_to_image(\n",
    "  \"A cute otter in a rainbow whirlpool holding shells, watercolor\",\n",
    "  batch_size=3,\n",
    ")\n",
    "end = time.time()\n",
    "benchmark_result.append([\"XLA\", end - start])\n",
    "plot_images(images, \"XLA Compilation\")\n",
    "\n",
    "print(f\"With XLA: {(end - start):.2f} seconds\")\n",
    "keras.backend.clear_session()"
   ],
   "metadata": {
    "collapsed": false
   }
  },
  {
   "cell_type": "markdown",
   "source": [
    "### XLA + 혼합정밀도"
   ],
   "metadata": {
    "collapsed": false
   }
  },
  {
   "cell_type": "code",
   "execution_count": null,
   "outputs": [],
   "source": [
    "keras.mixed_precision.set_global_policy(\"mixed_float16\")\n",
    "model = keras_cv.models.StableDiffusion(jit_compile=True)\n",
    "\n",
    "# Let's make sure to warm up the model\n",
    "images = model.text_to_image(\n",
    "  \"Teddy bears conducting machine learning research\",\n",
    "  batch_size=3,\n",
    ")\n",
    "plot_images(images,\"XLA + Mixed Precision\")"
   ],
   "metadata": {
    "collapsed": false
   }
  },
  {
   "cell_type": "code",
   "execution_count": null,
   "outputs": [],
   "source": [
    "start = time.time()\n",
    "images = model.text_to_image(\n",
    "  \"A mysterious dark stranger visits the great pyramids of egypt, \"\n",
    "  \"high quality, highly detailed, elegant, sharp focus, \"\n",
    "  \"concept art, character concepts, digital painting\",\n",
    "  batch_size=3,\n",
    ")\n",
    "end = time.time()\n",
    "benchmark_result.append([\"XLA + Mixed Precision\", end - start])\n",
    "plot_images(images,\"XLA + Mixed Precision\")\n",
    "\n",
    "print(f\"XLA + mixed precision: {(end - start):.2f} seconds\")"
   ],
   "metadata": {
    "collapsed": false
   }
  },
  {
   "cell_type": "markdown",
   "source": [
    "### 결과 확인"
   ],
   "metadata": {
    "collapsed": false
   }
  },
  {
   "cell_type": "code",
   "execution_count": null,
   "outputs": [],
   "source": [
    "print(\"{:<20} {:<20}\".format(\"Model\", \"Runtime\"))\n",
    "for result in benchmark_result:\n",
    "  name, runtime = result\n",
    "  print(\"{:<20} {:<20}\".format(name, runtime))"
   ],
   "metadata": {
    "collapsed": false
   }
  }
 ],
 "metadata": {
  "accelerator": "GPU",
  "colab": {
   "provenance": [],
   "include_colab_link": true
  },
  "kernelspec": {
   "display_name": "Python 3 (ipykernel)",
   "language": "python",
   "name": "python3"
  },
  "language_info": {
   "codemirror_mode": {
    "name": "ipython",
    "version": 3
   },
   "file_extension": ".py",
   "mimetype": "text/x-python",
   "name": "python",
   "nbconvert_exporter": "python",
   "pygments_lexer": "ipython3",
   "version": "3.9.7 (default, Sep  3 2021, 12:37:55) \n[Clang 12.0.5 (clang-1205.0.22.9)]"
  },
  "vscode": {
   "interpreter": {
    "hash": "aee8b7b246df8f9039afb4144a1f6fd8d2ca17a180786b69acc140d282b71a49"
   }
  }
 },
 "nbformat": 4,
 "nbformat_minor": 0
}
