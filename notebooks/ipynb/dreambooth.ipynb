{
 "cells": [
  {
   "cell_type": "markdown",
   "metadata": {
    "colab_type": "text"
   },
   "source": [
    "# DreamBooth\n",
    "\n",
    "**Author:** [Sayak Paul](https://twitter.com/RisingSayak), [Chansung Park](https://twitter.com/algo_diver)<br>\n",
    "**Date created:** 2023/02/01<br>\n",
    "**Last modified:** 2023/02/05<br>\n",
    "**Description:** Implementing DreamBooth."
   ]
  },
  {
   "cell_type": "markdown",
   "metadata": {
    "colab_type": "text"
   },
   "source": [
    "## Introduction\n",
    "\n",
    "In this example, we implement DreamBooth, a fine-tuning technique to teach new visual\n",
    "concepts to text-conditioned Diffusion models with just 3 - 5 images. DreamBooth was\n",
    "proposed in\n",
    "[DreamBooth: Fine Tuning Text-to-Image Diffusion Models for Subject-Driven Generation](https://arxiv.org/abs/2208.12242)\n",
    "by Ruiz et al.\n",
    "\n",
    "DreamBooth, in a sense, is similar to the\n",
    "[traditional way of fine-tuning a text-conditioned Diffusion model except](https://keras.io/examples/generative/finetune_stable_diffusion/)\n",
    "for a few gotchas. This example assumes that you have basic familiarity with\n",
    "Diffusion models and how to fine-tune them. Here are some reference examples that might\n",
    "help you to get familiarized quickly:\n",
    "\n",
    "* [High-performance image generation using Stable Diffusion in KerasCV](https://keras.io/guides/keras_cv/generate_images_with_stable_diffusion/)\n",
    "* [Teach StableDiffusion new concepts via Textual Inversion](https://keras.io/examples/generative/fine_tune_via_textual_inversion/)\n",
    "* [Fine-tuning Stable Diffusion](https://keras.io/examples/generative/finetune_stable_diffusion/)\n",
    "\n",
    "First, let's install the latest versions of KerasCV and TensorFlow."
   ]
  },
  {
   "cell_type": "code",
   "execution_count": null,
   "metadata": {
    "colab_type": "code"
   },
   "outputs": [],
   "source": [
    "!pip install -q -U keras_cv==0.6.0\n",
    "!pip install -q -U tensorflow"
   ]
  },
  {
   "cell_type": "markdown",
   "metadata": {
    "colab_type": "text"
   },
   "source": [
    "If you're running the code, please ensure you're using a GPU with at least 24 GBs of\n",
    "VRAM."
   ]
  },
  {
   "cell_type": "markdown",
   "metadata": {
    "colab_type": "text"
   },
   "source": [
    "## Initial imports"
   ]
  },
  {
   "cell_type": "code",
   "execution_count": null,
   "metadata": {
    "colab_type": "code"
   },
   "outputs": [],
   "source": [
    "import math\n",
    "\n",
    "import keras_cv\n",
    "import matplotlib.pyplot as plt\n",
    "import numpy as np\n",
    "import tensorflow as tf\n",
    "from imutils import paths\n",
    "from tensorflow import keras"
   ]
  },
  {
   "cell_type": "markdown",
   "metadata": {
    "colab_type": "text"
   },
   "source": [
    "## Usage of DreamBooth\n",
    "\n",
    "... is very versatile. By teaching Stable Diffusion about your favorite visual\n",
    "concepts, you can\n",
    "\n",
    "* Recontextualize objects in interesting ways:\n",
    "\n",
    "  ![](https://i.imgur.com/4Da9ozw.png)\n",
    "\n",
    "* Generate artistic renderings of the underlying visual concept:\n",
    "\n",
    "  ![](https://i.imgur.com/nI2N8bI.png)\n",
    "\n",
    "\n",
    "And many other applications. We welcome you to check out the original\n",
    "[DreamBooth paper](https://arxiv.org/abs/2208.12242) in this regard."
   ]
  },
  {
   "cell_type": "markdown",
   "metadata": {
    "colab_type": "text"
   },
   "source": [
    "## Download the instance and class images\n",
    "\n",
    "DreamBooth uses a technique called \"prior preservation\" to meaningfully guide the\n",
    "training procedure such that the fine-tuned models can still preserve some of the prior\n",
    "semantics of the visual concept you're introducing. To know more about the idea of \"prior\n",
    "preservation\" refer to [this document](https://dreambooth.github.io/).\n",
    "\n",
    "Here, we need to introduce a few key terms specific to DreamBooth:\n",
    "\n",
    "* **Unique class**: Examples include \"dog\", \"person\", etc. In this example, we use \"dog\".\n",
    "* **Unique identifier**: A unique identifier that is prepended to the unique class while\n",
    "forming the \"instance prompts\". In this example, we use \"sks\" as this unique identifier.\n",
    "* **Instance prompt**: Denotes a prompt that best describes the \"instance images\". An\n",
    "example prompt could be - \"f\"a photo of {unique_id} {unique_class}\". So, for our example,\n",
    "this becomes - \"a photo  of sks dog\".\n",
    "* **Class prompt**: Denotes a prompt without the unique identifier. This prompt is used\n",
    "for generating \"class images\" for prior preservation. For our example, this prompt is -\n",
    "\"a photo of dog\".\n",
    "* **Instance images**: Denote the images that represent the visual concept you're trying\n",
    "to teach aka the \"instance prompt\". This number is typically just 3 - 5. We typically\n",
    "gather these images ourselves.\n",
    "* **Class images**: Denote the images generated using the \"class prompt\" for using prior\n",
    "preservation in DreamBooth training. We leverage the pre-trained model before fine-tuning\n",
    "it to generate these class images. Typically, 200 - 300 class images are enough.\n",
    "\n",
    "In code, this generation process looks quite simply:\n",
    "\n",
    "```py\n",
    "from tqdm import tqdm\n",
    "import numpy as np\n",
    "import hashlib\n",
    "import keras_cv\n",
    "import PIL\n",
    "import os\n",
    "\n",
    "class_images_dir = \"class-images\"\n",
    "os.makedirs(class_images_dir, exist_ok=True)\n",
    "\n",
    "model = keras_cv.models.StableDiffusion(img_width=512, img_height=512, jit_compile=True)\n",
    "\n",
    "class_prompt = \"a photo of dog\"\n",
    "num_imgs_to_generate = 200\n",
    "for i in tqdm(range(num_imgs_to_generate)):\n",
    "    images = model.text_to_image(\n",
    "        class_prompt,\n",
    "        batch_size=3,\n",
    "    )\n",
    "    idx = np.random.choice(len(images))\n",
    "    selected_image = PIL.Image.fromarray(images[idx])\n",
    "    hash_image = hashlib.sha1(selected_image.tobytes()).hexdigest()\n",
    "    image_filename = os.path.join(class_images_dir, f\"{hash_image}.jpg\")\n",
    "    selected_image.save(image_filename)\n",
    "```\n",
    "\n",
    "To keep the runtime of this example short, the authors of this example have gone ahead\n",
    "and generated some class images using\n",
    "[this notebook](https://colab.research.google.com/gist/sayakpaul/6b5de345d29cf5860f84b6d04d958692/generate_class_priors.ipynb).\n",
    "\n",
    "**Note** that prior preservation is an optional technique used in DreamBooth, but it\n",
    "almost always helps in improving the quality of the generated images."
   ]
  },
  {
   "cell_type": "code",
   "execution_count": null,
   "metadata": {
    "colab_type": "code"
   },
   "outputs": [],
   "source": [
    "instance_images_root = tf.keras.utils.get_file(\n",
    "    origin=\"https://huggingface.co/datasets/sayakpaul/sample-datasets/resolve/main/instance-images.tar.gz\",\n",
    "    untar=True,\n",
    ")\n",
    "class_images_root = tf.keras.utils.get_file(\n",
    "    origin=\"https://huggingface.co/datasets/sayakpaul/sample-datasets/resolve/main/class-images.tar.gz\",\n",
    "    untar=True,\n",
    ")"
   ]
  },
  {
   "cell_type": "markdown",
   "metadata": {
    "colab_type": "text"
   },
   "source": [
    "## Visualize images\n",
    "\n",
    "First, let's load the image paths."
   ]
  },
  {
   "cell_type": "code",
   "execution_count": null,
   "metadata": {
    "colab_type": "code"
   },
   "outputs": [],
   "source": [
    "instance_image_paths = list(paths.list_images(instance_images_root))\n",
    "class_image_paths = list(paths.list_images(class_images_root))"
   ]
  },
  {
   "cell_type": "markdown",
   "metadata": {
    "colab_type": "text"
   },
   "source": [
    "Then we load the images from the paths."
   ]
  },
  {
   "cell_type": "code",
   "execution_count": null,
   "metadata": {
    "colab_type": "code"
   },
   "outputs": [],
   "source": [
    "\n",
    "def load_images(image_paths):\n",
    "    images = [np.array(keras.utils.load_img(path)) for path in image_paths]\n",
    "    return images\n"
   ]
  },
  {
   "cell_type": "markdown",
   "metadata": {
    "colab_type": "text"
   },
   "source": [
    "And then we make use a utility function to plot the loaded images."
   ]
  },
  {
   "cell_type": "code",
   "execution_count": null,
   "metadata": {
    "colab_type": "code"
   },
   "outputs": [],
   "source": [
    "\n",
    "def plot_images(images, title=None):\n",
    "    plt.figure(figsize=(20, 20))\n",
    "    for i in range(len(images)):\n",
    "        ax = plt.subplot(1, len(images), i + 1)\n",
    "        if title is not None:\n",
    "            plt.title(title)\n",
    "        plt.imshow(images[i])\n",
    "        plt.axis(\"off\")\n"
   ]
  },
  {
   "cell_type": "markdown",
   "metadata": {
    "colab_type": "text"
   },
   "source": [
    "**Instance images**:"
   ]
  },
  {
   "cell_type": "code",
   "execution_count": null,
   "metadata": {
    "colab_type": "code"
   },
   "outputs": [],
   "source": [
    "plot_images(load_images(instance_image_paths[:5]))"
   ]
  },
  {
   "cell_type": "markdown",
   "metadata": {
    "colab_type": "text"
   },
   "source": [
    "**Class images**:"
   ]
  },
  {
   "cell_type": "code",
   "execution_count": null,
   "metadata": {
    "colab_type": "code"
   },
   "outputs": [],
   "source": [
    "plot_images(load_images(class_image_paths[:5]))"
   ]
  },
  {
   "cell_type": "markdown",
   "metadata": {
    "colab_type": "text"
   },
   "source": [
    "## Prepare datasets\n",
    "\n",
    "Dataset preparation includes two stages: (1): preparing the captions, (2) processing the\n",
    "images."
   ]
  },
  {
   "cell_type": "markdown",
   "metadata": {
    "colab_type": "text"
   },
   "source": [
    "### Prepare the captions"
   ]
  },
  {
   "cell_type": "code",
   "execution_count": null,
   "metadata": {
    "colab_type": "code"
   },
   "outputs": [],
   "source": [
    "# Since we're using prior preservation, we need to match the number\n",
    "# of instance images we're using. We just repeat the instance image paths\n",
    "# to do so.\n",
    "new_instance_image_paths = []\n",
    "for index in range(len(class_image_paths)):\n",
    "    instance_image = instance_image_paths[index % len(instance_image_paths)]\n",
    "    new_instance_image_paths.append(instance_image)\n",
    "\n",
    "# We just repeat the prompts / captions per images.\n",
    "unique_id = \"sks\"\n",
    "class_label = \"dog\"\n",
    "\n",
    "instance_prompt = f\"a photo of {unique_id} {class_label}\"\n",
    "instance_prompts = [instance_prompt] * len(new_instance_image_paths)\n",
    "\n",
    "class_prompt = f\"a photo of {class_label}\"\n",
    "class_prompts = [class_prompt] * len(class_image_paths)"
   ]
  },
  {
   "cell_type": "markdown",
   "metadata": {
    "colab_type": "text"
   },
   "source": [
    "Next, we embed the prompts to save some compute."
   ]
  },
  {
   "cell_type": "code",
   "execution_count": null,
   "metadata": {
    "colab_type": "code"
   },
   "outputs": [],
   "source": [
    "import itertools\n",
    "\n",
    "# The padding token and maximum prompt length are specific to the text encoder.\n",
    "# If you're using a different text encoder be sure to change them accordingly.\n",
    "padding_token = 49407\n",
    "max_prompt_length = 77\n",
    "\n",
    "# Load the tokenizer.\n",
    "tokenizer = keras_cv.models.stable_diffusion.SimpleTokenizer()\n",
    "\n",
    "# Method to tokenize and pad the tokens.\n",
    "def process_text(caption):\n",
    "    tokens = tokenizer.encode(caption)\n",
    "    tokens = tokens + [padding_token] * (max_prompt_length - len(tokens))\n",
    "    return np.array(tokens)\n",
    "\n",
    "\n",
    "# Collate the tokenized captions into an array.\n",
    "tokenized_texts = np.empty(\n",
    "    (len(instance_prompts) + len(class_prompts), max_prompt_length)\n",
    ")\n",
    "\n",
    "for i, caption in enumerate(itertools.chain(instance_prompts, class_prompts)):\n",
    "    tokenized_texts[i] = process_text(caption)\n",
    "\n",
    "\n",
    "# We also pre-compute the text embeddings to save some memory during training.\n",
    "POS_IDS = tf.convert_to_tensor([list(range(max_prompt_length))], dtype=tf.int32)\n",
    "text_encoder = keras_cv.models.stable_diffusion.TextEncoder(max_prompt_length)\n",
    "\n",
    "gpus = tf.config.list_logical_devices(\"GPU\")\n",
    "\n",
    "# Ensure the computation takes place on a GPU.\n",
    "# Note that it's done automatically when there's a GPU present.\n",
    "# This example just attempts at showing how you can do it\n",
    "# more explicitly.\n",
    "with tf.device(gpus[0].name):\n",
    "    embedded_text = text_encoder(\n",
    "        [tf.convert_to_tensor(tokenized_texts), POS_IDS], training=False\n",
    "    ).numpy()\n",
    "\n",
    "# To ensure text_encoder doesn't occupy any GPU space.\n",
    "del text_encoder"
   ]
  },
  {
   "cell_type": "markdown",
   "metadata": {
    "colab_type": "text"
   },
   "source": [
    "## Prepare the images"
   ]
  },
  {
   "cell_type": "code",
   "execution_count": null,
   "metadata": {
    "colab_type": "code"
   },
   "outputs": [],
   "source": [
    "resolution = 512\n",
    "auto = tf.data.AUTOTUNE\n",
    "\n",
    "augmenter = keras.Sequential(\n",
    "    layers=[\n",
    "        keras_cv.layers.CenterCrop(resolution, resolution),\n",
    "        keras_cv.layers.RandomFlip(),\n",
    "        keras.layers.Rescaling(scale=1.0 / 127.5, offset=-1),\n",
    "    ]\n",
    ")\n",
    "\n",
    "\n",
    "def process_image(image_path, tokenized_text):\n",
    "    image = tf.io.read_file(image_path)\n",
    "    image = tf.io.decode_png(image, 3)\n",
    "    image = tf.image.resize(image, (resolution, resolution))\n",
    "    return image, tokenized_text\n",
    "\n",
    "\n",
    "def apply_augmentation(image_batch, embedded_tokens):\n",
    "    return augmenter(image_batch), embedded_tokens\n",
    "\n",
    "\n",
    "def prepare_dict(instance_only=True):\n",
    "    def fn(image_batch, embedded_tokens):\n",
    "        if instance_only:\n",
    "            batch_dict = {\n",
    "                \"instance_images\": image_batch,\n",
    "                \"instance_embedded_texts\": embedded_tokens,\n",
    "            }\n",
    "            return batch_dict\n",
    "        else:\n",
    "            batch_dict = {\n",
    "                \"class_images\": image_batch,\n",
    "                \"class_embedded_texts\": embedded_tokens,\n",
    "            }\n",
    "            return batch_dict\n",
    "\n",
    "    return fn\n",
    "\n",
    "\n",
    "def assemble_dataset(image_paths, embedded_texts, instance_only=True, batch_size=1):\n",
    "    dataset = tf.data.Dataset.from_tensor_slices((image_paths, embedded_texts))\n",
    "    dataset = dataset.map(process_image, num_parallel_calls=auto)\n",
    "    dataset = dataset.shuffle(5, reshuffle_each_iteration=True)\n",
    "    dataset = dataset.batch(batch_size)\n",
    "    dataset = dataset.map(apply_augmentation, num_parallel_calls=auto)\n",
    "\n",
    "    prepare_dict_fn = prepare_dict(instance_only=instance_only)\n",
    "    dataset = dataset.map(prepare_dict_fn, num_parallel_calls=auto)\n",
    "    return dataset\n"
   ]
  },
  {
   "cell_type": "markdown",
   "metadata": {
    "colab_type": "text"
   },
   "source": [
    "## Assemble dataset"
   ]
  },
  {
   "cell_type": "code",
   "execution_count": null,
   "metadata": {
    "colab_type": "code"
   },
   "outputs": [],
   "source": [
    "instance_dataset = assemble_dataset(\n",
    "    new_instance_image_paths,\n",
    "    embedded_text[: len(new_instance_image_paths)],\n",
    ")\n",
    "class_dataset = assemble_dataset(\n",
    "    class_image_paths,\n",
    "    embedded_text[len(new_instance_image_paths) :],\n",
    "    instance_only=False,\n",
    ")\n",
    "train_dataset = tf.data.Dataset.zip((instance_dataset, class_dataset))"
   ]
  },
  {
   "cell_type": "markdown",
   "metadata": {
    "colab_type": "text"
   },
   "source": [
    "## Check shapes\n",
    "\n",
    "Now that the dataset has been prepared, let's quickly check what's inside it."
   ]
  },
  {
   "cell_type": "code",
   "execution_count": null,
   "metadata": {
    "colab_type": "code"
   },
   "outputs": [],
   "source": [
    "sample_batch = next(iter(train_dataset))\n",
    "print(sample_batch[0].keys(), sample_batch[1].keys())\n",
    "\n",
    "for k in sample_batch[0]:\n",
    "    print(k, sample_batch[0][k].shape)\n",
    "\n",
    "for k in sample_batch[1]:\n",
    "    print(k, sample_batch[1][k].shape)"
   ]
  },
  {
   "cell_type": "markdown",
   "metadata": {
    "colab_type": "text"
   },
   "source": [
    "During training, we make use of these keys to gather the images and text embeddings and\n",
    "concat them accordingly."
   ]
  },
  {
   "cell_type": "markdown",
   "metadata": {
    "colab_type": "text"
   },
   "source": [
    "## DreamBooth training loop\n",
    "\n",
    "Our DreamBooth training loop is very much inspired by\n",
    "[this script](https://github.com/huggingface/diffusers/blob/main/examples/dreambooth/train_dreambooth.py)\n",
    "provided by the Diffusers team at Hugging Face. However, there is an important\n",
    "difference to note. We only fine-tune the UNet (the model responsible for predicting\n",
    "noise) and don't fine-tune the text encoder in this example. If you're looking for an\n",
    "implementation that also performs the additional fine-tuning of the text encoder, refer\n",
    "to [this repository](https://github.com/sayakpaul/dreambooth-keras/)."
   ]
  },
  {
   "cell_type": "code",
   "execution_count": null,
   "metadata": {
    "colab_type": "code"
   },
   "outputs": [],
   "source": [
    "import tensorflow.experimental.numpy as tnp\n",
    "\n",
    "\n",
    "class DreamBoothTrainer(tf.keras.Model):\n",
    "    # Reference:\n",
    "    # https://github.com/huggingface/diffusers/blob/main/examples/dreambooth/train_dreambooth.py\n",
    "\n",
    "    def __init__(\n",
    "        self,\n",
    "        diffusion_model,\n",
    "        vae,\n",
    "        noise_scheduler,\n",
    "        use_mixed_precision=False,\n",
    "        prior_loss_weight=1.0,\n",
    "        max_grad_norm=1.0,\n",
    "        **kwargs,\n",
    "    ):\n",
    "        super().__init__(**kwargs)\n",
    "\n",
    "        self.diffusion_model = diffusion_model\n",
    "        self.vae = vae\n",
    "        self.noise_scheduler = noise_scheduler\n",
    "        self.prior_loss_weight = prior_loss_weight\n",
    "        self.max_grad_norm = max_grad_norm\n",
    "\n",
    "        self.use_mixed_precision = use_mixed_precision\n",
    "        self.vae.trainable = False\n",
    "\n",
    "    def train_step(self, inputs):\n",
    "        instance_batch = inputs[0]\n",
    "        class_batch = inputs[1]\n",
    "\n",
    "        instance_images = instance_batch[\"instance_images\"]\n",
    "        instance_embedded_text = instance_batch[\"instance_embedded_texts\"]\n",
    "        class_images = class_batch[\"class_images\"]\n",
    "        class_embedded_text = class_batch[\"class_embedded_texts\"]\n",
    "\n",
    "        images = tf.concat([instance_images, class_images], 0)\n",
    "        embedded_texts = tf.concat([instance_embedded_text, class_embedded_text], 0)\n",
    "        batch_size = tf.shape(images)[0]\n",
    "\n",
    "        with tf.GradientTape() as tape:\n",
    "            # Project image into the latent space and sample from it.\n",
    "            latents = self.sample_from_encoder_outputs(self.vae(images, training=False))\n",
    "            # Know more about the magic number here:\n",
    "            # https://keras.io/examples/generative/fine_tune_via_textual_inversion/\n",
    "            latents = latents * 0.18215\n",
    "\n",
    "            # Sample noise that we'll add to the latents.\n",
    "            noise = tf.random.normal(tf.shape(latents))\n",
    "\n",
    "            # Sample a random timestep for each image.\n",
    "            timesteps = tnp.random.randint(\n",
    "                0, self.noise_scheduler.train_timesteps, (batch_size,)\n",
    "            )\n",
    "\n",
    "            # Add noise to the latents according to the noise magnitude at each timestep\n",
    "            # (this is the forward diffusion process).\n",
    "            noisy_latents = self.noise_scheduler.add_noise(\n",
    "                tf.cast(latents, noise.dtype), noise, timesteps\n",
    "            )\n",
    "\n",
    "            # Get the target for loss depending on the prediction type\n",
    "            # just the sampled noise for now.\n",
    "            target = noise  # noise_schedule.predict_epsilon == True\n",
    "\n",
    "            # Predict the noise residual and compute loss.\n",
    "            timestep_embedding = tf.map_fn(\n",
    "                lambda t: self.get_timestep_embedding(t), timesteps, dtype=tf.float32\n",
    "            )\n",
    "            model_pred = self.diffusion_model(\n",
    "                [noisy_latents, timestep_embedding, embedded_texts], training=True\n",
    "            )\n",
    "            loss = self.compute_loss(target, model_pred)\n",
    "            if self.use_mixed_precision:\n",
    "                loss = self.optimizer.get_scaled_loss(loss)\n",
    "\n",
    "        # Update parameters of the diffusion model.\n",
    "        trainable_vars = self.diffusion_model.trainable_variables\n",
    "        gradients = tape.gradient(loss, trainable_vars)\n",
    "        if self.use_mixed_precision:\n",
    "            gradients = self.optimizer.get_unscaled_gradients(gradients)\n",
    "        gradients = [tf.clip_by_norm(g, self.max_grad_norm) for g in gradients]\n",
    "        self.optimizer.apply_gradients(zip(gradients, trainable_vars))\n",
    "\n",
    "        return {m.name: m.result() for m in self.metrics}\n",
    "\n",
    "    def get_timestep_embedding(self, timestep, dim=320, max_period=10000):\n",
    "        half = dim // 2\n",
    "        log_max_period = tf.math.log(tf.cast(max_period, tf.float32))\n",
    "        freqs = tf.math.exp(\n",
    "            -log_max_period * tf.range(0, half, dtype=tf.float32) / half\n",
    "        )\n",
    "        args = tf.convert_to_tensor([timestep], dtype=tf.float32) * freqs\n",
    "        embedding = tf.concat([tf.math.cos(args), tf.math.sin(args)], 0)\n",
    "        return embedding\n",
    "\n",
    "    def sample_from_encoder_outputs(self, outputs):\n",
    "        mean, logvar = tf.split(outputs, 2, axis=-1)\n",
    "        logvar = tf.clip_by_value(logvar, -30.0, 20.0)\n",
    "        std = tf.exp(0.5 * logvar)\n",
    "        sample = tf.random.normal(tf.shape(mean), dtype=mean.dtype)\n",
    "        return mean + std * sample\n",
    "\n",
    "    def compute_loss(self, target, model_pred):\n",
    "        # Chunk the noise and model_pred into two parts and compute the loss\n",
    "        # on each part separately.\n",
    "        # Since the first half of the inputs has instance samples and the second half\n",
    "        # has class samples, we do the chunking accordingly.\n",
    "        model_pred, model_pred_prior = tf.split(\n",
    "            model_pred, num_or_size_splits=2, axis=0\n",
    "        )\n",
    "        target, target_prior = tf.split(target, num_or_size_splits=2, axis=0)\n",
    "\n",
    "        # Compute instance loss.\n",
    "        loss = self.compiled_loss(target, model_pred)\n",
    "\n",
    "        # Compute prior loss.\n",
    "        prior_loss = self.compiled_loss(target_prior, model_pred_prior)\n",
    "\n",
    "        # Add the prior loss to the instance loss.\n",
    "        loss = loss + self.prior_loss_weight * prior_loss\n",
    "        return loss\n",
    "\n",
    "    def save_weights(self, filepath, overwrite=True, save_format=None, options=None):\n",
    "        # Overriding this method will allow us to use the `ModelCheckpoint`\n",
    "        # callback directly with this trainer class. In this case, it will\n",
    "        # only checkpoint the `diffusion_model` since that's what we're training\n",
    "        # during fine-tuning.\n",
    "        self.diffusion_model.save_weights(\n",
    "            filepath=filepath,\n",
    "            overwrite=overwrite,\n",
    "            save_format=save_format,\n",
    "            options=options,\n",
    "        )\n",
    "\n",
    "    def load_weights(self, filepath, by_name=False, skip_mismatch=False, options=None):\n",
    "        # Similarly override `load_weights()` so that we can directly call it on\n",
    "        # the trainer class object.\n",
    "        self.diffusion_model.load_weights(\n",
    "            filepath=filepath,\n",
    "            by_name=by_name,\n",
    "            skip_mismatch=skip_mismatch,\n",
    "            options=options,\n",
    "        )\n"
   ]
  },
  {
   "cell_type": "markdown",
   "metadata": {
    "colab_type": "text"
   },
   "source": [
    "## Trainer initialization"
   ]
  },
  {
   "cell_type": "code",
   "execution_count": null,
   "metadata": {
    "colab_type": "code"
   },
   "outputs": [],
   "source": [
    "# Comment it if you are not using a GPU having tensor cores.\n",
    "tf.keras.mixed_precision.set_global_policy(\"mixed_float16\")\n",
    "\n",
    "use_mp = True  # Set it to False if you're not using a GPU with tensor cores.\n",
    "\n",
    "image_encoder = keras_cv.models.stable_diffusion.ImageEncoder()\n",
    "dreambooth_trainer = DreamBoothTrainer(\n",
    "    diffusion_model=keras_cv.models.stable_diffusion.DiffusionModel(\n",
    "        resolution, resolution, max_prompt_length\n",
    "    ),\n",
    "    # Remove the top layer from the encoder, which cuts off the variance and only\n",
    "    # returns the mean.\n",
    "    vae=tf.keras.Model(\n",
    "        image_encoder.input,\n",
    "        image_encoder.layers[-2].output,\n",
    "    ),\n",
    "    noise_scheduler=keras_cv.models.stable_diffusion.NoiseScheduler(),\n",
    "    use_mixed_precision=use_mp,\n",
    ")\n",
    "\n",
    "# These hyperparameters come from this tutorial by Hugging Face:\n",
    "# https://github.com/huggingface/diffusers/tree/main/examples/dreambooth\n",
    "learning_rate = 5e-6\n",
    "beta_1, beta_2 = 0.9, 0.999\n",
    "weight_decay = (1e-2,)\n",
    "epsilon = 1e-08\n",
    "\n",
    "optimizer = tf.keras.optimizers.experimental.AdamW(\n",
    "    learning_rate=learning_rate,\n",
    "    weight_decay=weight_decay,\n",
    "    beta_1=beta_1,\n",
    "    beta_2=beta_2,\n",
    "    epsilon=epsilon,\n",
    ")\n",
    "dreambooth_trainer.compile(optimizer=optimizer, loss=\"mse\")"
   ]
  },
  {
   "cell_type": "markdown",
   "metadata": {
    "colab_type": "text"
   },
   "source": [
    "## Train!\n",
    "\n",
    "We first calculate the number of epochs, we need to train for."
   ]
  },
  {
   "cell_type": "code",
   "execution_count": null,
   "metadata": {
    "colab_type": "code"
   },
   "outputs": [],
   "source": [
    "num_update_steps_per_epoch = train_dataset.cardinality()\n",
    "max_train_steps = 800\n",
    "epochs = math.ceil(max_train_steps / num_update_steps_per_epoch)\n",
    "print(f\"Training for {epochs} epochs.\")"
   ]
  },
  {
   "cell_type": "markdown",
   "metadata": {
    "colab_type": "text"
   },
   "source": [
    "And then we start training!"
   ]
  },
  {
   "cell_type": "code",
   "execution_count": null,
   "metadata": {
    "colab_type": "code"
   },
   "outputs": [],
   "source": [
    "ckpt_path = \"dreambooth-unet.h5\"\n",
    "ckpt_callback = tf.keras.callbacks.ModelCheckpoint(\n",
    "    ckpt_path,\n",
    "    save_weights_only=True,\n",
    "    monitor=\"loss\",\n",
    "    mode=\"min\",\n",
    ")\n",
    "dreambooth_trainer.fit(train_dataset, epochs=epochs, callbacks=[ckpt_callback])"
   ]
  },
  {
   "cell_type": "markdown",
   "metadata": {
    "colab_type": "text"
   },
   "source": [
    "## Experiments and inference\n",
    "\n",
    "We ran various experiments with a slightly modified version of this example. Our\n",
    "experiments are based on\n",
    "[this repository](https://github.com/sayakpaul/dreambooth-keras/) and are inspired by\n",
    "[this blog post](https://huggingface.co/blog/dreambooth) from Hugging Face.\n",
    "\n",
    "First, let's see how we can use the fine-tuned checkpoint for running inference."
   ]
  },
  {
   "cell_type": "code",
   "execution_count": null,
   "metadata": {
    "colab_type": "code"
   },
   "outputs": [],
   "source": [
    "# Initialize a new Stable Diffusion model.\n",
    "dreambooth_model = keras_cv.models.StableDiffusion(\n",
    "    img_width=resolution, img_height=resolution, jit_compile=True\n",
    ")\n",
    "dreambooth_model.diffusion_model.load_weights(ckpt_path)\n",
    "\n",
    "# Note how the unique identifier and the class have been used in the prompt.\n",
    "prompt = f\"A photo of {unique_id} {class_label} in a bucket\"\n",
    "num_imgs_to_gen = 3\n",
    "\n",
    "images_dreamboothed = dreambooth_model.text_to_image(prompt, batch_size=num_imgs_to_gen)\n",
    "plot_images(images_dreamboothed, prompt)"
   ]
  },
  {
   "cell_type": "markdown",
   "metadata": {
    "colab_type": "text"
   },
   "source": [
    "Now, let's load checkpoints from a different experiment we conducted where we also\n",
    "fine-tuned the text encoder along with the UNet:"
   ]
  },
  {
   "cell_type": "code",
   "execution_count": null,
   "metadata": {
    "colab_type": "code"
   },
   "outputs": [],
   "source": [
    "unet_weights = tf.keras.utils.get_file(\n",
    "    origin=\"https://huggingface.co/chansung/dreambooth-dog/resolve/main/lr%409e-06-max_train_steps%40200-train_text_encoder%40True-unet.h5\"\n",
    ")\n",
    "text_encoder_weights = tf.keras.utils.get_file(\n",
    "    origin=\"https://huggingface.co/chansung/dreambooth-dog/resolve/main/lr%409e-06-max_train_steps%40200-train_text_encoder%40True-text_encoder.h5\"\n",
    ")\n",
    "\n",
    "dreambooth_model.diffusion_model.load_weights(unet_weights)\n",
    "dreambooth_model.text_encoder.load_weights(text_encoder_weights)\n",
    "\n",
    "images_dreamboothed = dreambooth_model.text_to_image(prompt, batch_size=num_imgs_to_gen)\n",
    "plot_images(images_dreamboothed, prompt)"
   ]
  },
  {
   "cell_type": "markdown",
   "metadata": {
    "colab_type": "text"
   },
   "source": [
    "The default number of steps for generating an image in `text_to_image()`\n",
    "[is 50](https://github.com/keras-team/keras-cv/blob/3575bc3b944564fe15b46b917e6555aa6a9d7be0/keras_cv/models/stable_diffusion/stable_diffusion.py#L73).\n",
    "Let's increase it to 100."
   ]
  },
  {
   "cell_type": "code",
   "execution_count": null,
   "metadata": {
    "colab_type": "code"
   },
   "outputs": [],
   "source": [
    "images_dreamboothed = dreambooth_model.text_to_image(\n",
    "    prompt, batch_size=num_imgs_to_gen, num_steps=100\n",
    ")\n",
    "plot_images(images_dreamboothed, prompt)"
   ]
  },
  {
   "cell_type": "markdown",
   "metadata": {
    "colab_type": "text"
   },
   "source": [
    "Feel free to experiment with different prompts (don't forget to add the unique identifer\n",
    "and the class label!) to see how the results change. We welcome you to check out our\n",
    "codebase and more experimental results\n",
    "[here](https://github.com/sayakpaul/dreambooth-keras#results). You can also read\n",
    "[this blog post](https://huggingface.co/blog/dreambooth) to get more ideas."
   ]
  },
  {
   "cell_type": "markdown",
   "metadata": {
    "colab_type": "text"
   },
   "source": [
    "## Acknowledgements\n",
    "\n",
    "* Thanks to the\n",
    "[DreamBooth example script](https://github.com/huggingface/diffusers/blob/main/examples/dreambooth/train_dreambooth.py)\n",
    "provided by Hugging Face which helped us a lot in getting the initial implementation\n",
    "ready quickly.\n",
    "* Getting DreamBooth to work on human faces can be challenging. We have compiled some\n",
    "general recommendations\n",
    "[here](https://github.com/sayakpaul/dreambooth-keras#notes-on-preparing-data-for-dreambooth-training-of-faces).\n",
    "Thanks to\n",
    "[Abhishek Thakur](https://no.linkedin.com/in/abhi1thakur)\n",
    "for helping with these."
   ]
  }
 ],
 "metadata": {
  "accelerator": "GPU",
  "colab": {
   "collapsed_sections": [],
   "name": "dreambooth",
   "private_outputs": false,
   "provenance": [],
   "toc_visible": true
  },
  "kernelspec": {
   "display_name": "Python 3",
   "language": "python",
   "name": "python3"
  },
  "language_info": {
   "codemirror_mode": {
    "name": "ipython",
    "version": 3
   },
   "file_extension": ".py",
   "mimetype": "text/x-python",
   "name": "python",
   "nbconvert_exporter": "python",
   "pygments_lexer": "ipython3",
   "version": "3.7.0"
  }
 },
 "nbformat": 4,
 "nbformat_minor": 0
}
