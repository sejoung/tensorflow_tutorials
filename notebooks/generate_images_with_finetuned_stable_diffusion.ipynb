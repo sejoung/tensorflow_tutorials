{
 "cells": [
  {
   "cell_type": "markdown",
   "metadata": {
    "id": "HU_QbIPMtFyd"
   },
   "source": [
    "## Setup\n",
    "\n",
    "모델 폴더에서 다음 명령을 실행하여 모델을 다운로드하십시오.\n",
    "\n",
    "```bash\n",
    "wget https://huggingface.co/sayakpaul/kerascv_sd_pokemon_finetuned/resolve/main/ckpt_epochs_72_res_512_mp_True.h5\n",
    "```"
   ]
  },
  {
   "cell_type": "code",
   "execution_count": null,
   "metadata": {
    "id": "KPTS7ycVtDY2"
   },
   "outputs": [],
   "source": [
    "!pip install git+https://github.com/keras-team/keras-cv -q"
   ]
  },
  {
   "cell_type": "code",
   "execution_count": null,
   "metadata": {
    "id": "xF_HmcU8tDY3"
   },
   "outputs": [],
   "source": [
    "import keras_cv\n",
    "from tensorflow import keras\n",
    "import matplotlib.pyplot as plt\n",
    "\n",
    "print(keras_cv.__version__)"
   ]
  },
  {
   "cell_type": "markdown",
   "metadata": {
    "id": "04HcpaKKtDY4"
   },
   "source": [
    "## Prepare the models"
   ]
  },
  {
   "cell_type": "markdown",
   "metadata": {
    "id": "h79D-1EAvp3-"
   },
   "source": [
    "\n",
    "파인툰 된 모델을 다운로드 하고 로드하려면 다음을 실행하십시오.\n",
    "\n",
    "```python\n",
    "\n",
    "weights_path = keras.utils.get_file(\n",
    "    origin=\"https://huggingface.co/sayakpaul/kerascv_sd_pokemon_finetuned/resolve/main/ckpt_epochs_72_res_512_mp_True.h5\"\n",
    ")\n",
    "\n",
    "img_height = img_width = 512\n",
    "pokemon_model = keras_cv.models.StableDiffusion(\n",
    "    img_width=img_width, img_height=img_height\n",
    ")\n",
    "pokemon_model.diffusion_model.load_weights(weights_path)\n",
    "\n",
    "```"
   ]
  },
  {
   "cell_type": "code",
   "execution_count": null,
   "metadata": {
    "id": "LHJ0SXUYvmCj"
   },
   "outputs": [],
   "source": [
    "img_height = img_width = 512\n",
    "pokemon_model = keras_cv.models.StableDiffusion(\n",
    "    img_width=img_width, img_height=img_height\n",
    ")\n",
    "pokemon_model.diffusion_model.load_weights(\"/models/ckpt_epochs_72_res_512_mp_True.h5\")"
   ]
  },
  {
   "cell_type": "markdown",
   "metadata": {
    "id": "ODQmbIERYZtH"
   },
   "source": []
  },
  {
   "cell_type": "markdown",
   "metadata": {
    "id": "2pSQ1qhavvH4"
   },
   "source": [
    "### Load original weights"
   ]
  },
  {
   "cell_type": "code",
   "execution_count": null,
   "metadata": {
    "id": "csGyii-ztDY4"
   },
   "outputs": [],
   "source": [
    "original_model = keras_cv.models.StableDiffusion(\n",
    "    img_width=img_width, img_height=img_height\n",
    ")"
   ]
  },
  {
   "cell_type": "markdown",
   "metadata": {
    "id": "PuNLCdlWv3P2"
   },
   "source": [
    "## Try-out of some prompts"
   ]
  },
  {
   "cell_type": "code",
   "execution_count": null,
   "metadata": {
    "id": "04M3PodO-2wY"
   },
   "outputs": [],
   "source": [
    "def plot_images(images, title):\n",
    "    plt.figure(figsize=(20, 20))\n",
    "    for i in range(len(images)):\n",
    "        ax = plt.subplot(1, len(images), i + 1)\n",
    "        plt.title(title)\n",
    "        plt.imshow(images[i])\n",
    "        plt.axis(\"off\")"
   ]
  },
  {
   "cell_type": "markdown",
   "metadata": {
    "id": "OHMJiNLCxGUM"
   },
   "source": [
    "### \"Yoda\""
   ]
  },
  {
   "cell_type": "code",
   "execution_count": null,
   "metadata": {
    "id": "4uBY0IL48mbU"
   },
   "outputs": [],
   "source": [
    "PROMPT = \"Yoda\"\n",
    "BATCH_SIZE = 3\n",
    "\n",
    "images_original = original_model.text_to_image(PROMPT, batch_size=BATCH_SIZE)\n",
    "images_finetuned = pokemon_model.text_to_image(\n",
    "    PROMPT, batch_size=BATCH_SIZE, unconditional_guidance_scale=50\n",
    ")\n",
    "\n",
    "plot_images(images_original, \"original\")\n",
    "plot_images(images_finetuned, \"finetuned to pokemon dataset\")"
   ]
  },
  {
   "cell_type": "markdown",
   "metadata": {
    "id": "cMb_fS2UxL7g"
   },
   "source": [
    "### \"robotic cat with wings\""
   ]
  },
  {
   "cell_type": "code",
   "execution_count": null,
   "metadata": {
    "id": "wGzLW9xZBdL2"
   },
   "outputs": [],
   "source": [
    "PROMPT = \"robotic cat with wings\"\n",
    "BATCH_SIZE = 3\n",
    "\n",
    "images_original = original_model.text_to_image(PROMPT, batch_size=BATCH_SIZE)\n",
    "images_finetuned = pokemon_model.text_to_image(\n",
    "    PROMPT, batch_size=BATCH_SIZE, unconditional_guidance_scale=50\n",
    ")\n",
    "\n",
    "plot_images(images_original, \"original\")\n",
    "plot_images(images_finetuned, \"finetuned to pokemon dataset\")"
   ]
  },
  {
   "cell_type": "markdown",
   "metadata": {
    "id": "Dvb8SwoSxJFY"
   },
   "source": [
    "### \"Girl with a pearl earring\""
   ]
  },
  {
   "cell_type": "code",
   "execution_count": null,
   "metadata": {
    "id": "t1V-I5GgtDY5"
   },
   "outputs": [],
   "source": [
    "PROMPT = \"Girl with a pearl earring\"\n",
    "BATCH_SIZE = 3\n",
    "\n",
    "images_original = original_model.text_to_image(PROMPT, batch_size=BATCH_SIZE)\n",
    "images_finetuned = pokemon_model.text_to_image(\n",
    "    PROMPT, batch_size=BATCH_SIZE, unconditional_guidance_scale=50\n",
    ")\n",
    "\n",
    "plot_images(images_original, \"original\")\n",
    "plot_images(images_finetuned, \"finetuned to pokemon dataset\")"
   ]
  },
  {
   "cell_type": "markdown",
   "metadata": {
    "id": "m8MhkGSph6W5"
   },
   "source": [
    "### \"Hello Kitty\""
   ]
  },
  {
   "cell_type": "code",
   "execution_count": null,
   "metadata": {
    "id": "0soVfod7zoi9"
   },
   "outputs": [],
   "source": [
    "PROMPT = \"Hello Kitty\"\n",
    "BATCH_SIZE = 3\n",
    "\n",
    "images_original = original_model.text_to_image(PROMPT, batch_size=BATCH_SIZE)\n",
    "images_finetuned = pokemon_model.text_to_image(\n",
    "    PROMPT, batch_size=BATCH_SIZE, unconditional_guidance_scale=50\n",
    ")\n",
    "\n",
    "plot_images(images_original, \"original\")\n",
    "plot_images(images_finetuned, \"finetuned to pokemon dataset\")"
   ]
  }
 ],
 "metadata": {
  "accelerator": "GPU",
  "colab": {
   "provenance": [],
   "include_colab_link": true
  },
  "kernelspec": {
   "display_name": "Python 3 (ipykernel)",
   "language": "python",
   "name": "python3"
  },
  "language_info": {
   "codemirror_mode": {
    "name": "ipython",
    "version": 3
   },
   "file_extension": ".py",
   "mimetype": "text/x-python",
   "name": "python",
   "nbconvert_exporter": "python",
   "pygments_lexer": "ipython3",
   "version": "3.9.7 (default, Sep  3 2021, 12:37:55) \n[Clang 12.0.5 (clang-1205.0.22.9)]"
  },
  "vscode": {
   "interpreter": {
    "hash": "aee8b7b246df8f9039afb4144a1f6fd8d2ca17a180786b69acc140d282b71a49"
   }
  }
 },
 "nbformat": 4,
 "nbformat_minor": 0
}
